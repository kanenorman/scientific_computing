{
 "cells": [
  {
   "cell_type": "code",
   "execution_count": null,
   "metadata": {
    "collapsed": true
   },
   "outputs": [],
   "source": [
    "import warnings\n",
    "\n",
    "import numpy as np\n",
    "import matplotlib.pyplot as plt\n",
    "\n",
    "warnings.simplefilter(\"ignore\")\n",
    "plt.style.use(\"default\")"
   ]
  },
  {
   "cell_type": "markdown",
   "source": [
    "# Finite Difference Approximations\n",
    "How to numerically differentiate functions using finite-difference approximations"
   ],
   "metadata": {
    "collapsed": false
   }
  },
  {
   "cell_type": "markdown",
   "source": [
    "## Approximation via Taylor's Series\n",
    "Given a function $f: R \\rightarrow R$, we want to approximate derivatives of $f$ via simple expressions involving samples of $f$\n",
    "\n",
    "From Taylor's Theorem\n",
    "$f(x+h)=f(x)+f'(x)h + \\frac{f''(x)}{2}h^2 + \\frac{f'''(x)}{6}h^3+ ...$\n",
    "\n",
    "We can rearrange to approximate $f'(x)$\n",
    "$f'(x) =\\frac{f(x+h)-f(x)}{h} - \\frac{f''(x)}{2}h^2 ...$\n",
    "\n",
    "Then derive the following:\n",
    "\n",
    "`Forward Difference`: $f'(x)\\approx \\frac{f(x+h)-f(x)}{h}$ *notice here we neglect $(O)h$ terms*\n",
    "`Backward Difference`: $f'(x)\\approx \\frac{f(x)-f(x-h)}{h}$ *again we neglect $(O)h$ terms*\n",
    "`Center Difference`: $f'(x)\\approx \\frac{f(x+h)-f(x-h)}{2h}$ *here we neglect $(O)h^2$ terms*\\\n",
    "`Center Difference for Second Derivative`: $f''(x) \\approx \\frac{f(x+h)-2f(x)+f(x-h)}{h^2}$ *again we neglect $(O)h^2$ terms*\n",
    "\n",
    "This methodology gives approximations with a high order of accuracy; however, there is a more systematic approach. Differentiate the interpolant!\n",
    "\n"
   ],
   "metadata": {
    "collapsed": false
   }
  }
 ],
 "metadata": {
  "kernelspec": {
   "display_name": "Python 3",
   "language": "python",
   "name": "python3"
  },
  "language_info": {
   "codemirror_mode": {
    "name": "ipython",
    "version": 2
   },
   "file_extension": ".py",
   "mimetype": "text/x-python",
   "name": "python",
   "nbconvert_exporter": "python",
   "pygments_lexer": "ipython2",
   "version": "2.7.6"
  }
 },
 "nbformat": 4,
 "nbformat_minor": 0
}
