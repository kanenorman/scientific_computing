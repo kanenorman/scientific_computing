{
 "cells": [
  {
   "cell_type": "markdown",
   "source": [
    "# Differentiation Matricies"
   ],
   "metadata": {
    "collapsed": false
   }
  },
  {
   "cell_type": "markdown",
   "source": [
    "Finite difference methods help us approximate $f'(x_i)$ at some specific point $x_i$.\n",
    "If we want to approximate $f'(x)$ on an interval $x\\in [a,b]$ we can simultaneously approximate $f'(x_i)$ for $x_i, i=1,...,n$"
   ],
   "metadata": {
    "collapsed": false
   }
  },
  {
   "cell_type": "markdown",
   "source": [
    "## Differentiation Matricies\n",
    "We a matrix $D\\in R^{nxn}$ need to map the vector $F\\equiv[f(x_1), f(x_2), ..., f(x_n)] \\in R^n $ to the vector of derivatives $F'\\equiv [f'(x_1), f'(x_2),..., f'(x_n)] \\in R^n$\n",
    "Let $\\tilde{F}$ denote our finite difference approximation to the vector of derivatives, i.e. $\\tilde{F'}\\approx F'$\n",
    "Differentiation is a linear operator, hence we expect the map from $F'$ to $\\tilde{F'}$ to be a ${nxn}$ matrix."
   ],
   "metadata": {
    "collapsed": false
   }
  }
 ],
 "metadata": {
  "kernelspec": {
   "display_name": "Python 3",
   "language": "python",
   "name": "python3"
  },
  "language_info": {
   "codemirror_mode": {
    "name": "ipython",
    "version": 2
   },
   "file_extension": ".py",
   "mimetype": "text/x-python",
   "name": "python",
   "nbconvert_exporter": "python",
   "pygments_lexer": "ipython2",
   "version": "2.7.6"
  }
 },
 "nbformat": 4,
 "nbformat_minor": 0
}
